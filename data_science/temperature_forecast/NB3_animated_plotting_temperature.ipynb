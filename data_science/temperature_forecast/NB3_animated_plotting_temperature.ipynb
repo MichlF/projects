{
 "cells": [
  {
   "attachments": {},
   "cell_type": "markdown",
   "metadata": {},
   "source": [
    "### Project goal: Forecast the temperatures for Berlin-Tempelhof\n",
    "\n",
    "Exercise in three notebooks:\n",
    "1. Inspect the raw data and apply trend, seasonality and AR modelling manually and automatically using `statsmodels` package to predict temperature.\n",
    "2. Use ARIMA and SARIMAX modelling to predict temperature.\n",
    "3. Plot the predicted temperatures using Plotly\n",
    "\n",
    "This is notebook 3."
   ]
  },
  {
   "cell_type": "code",
   "execution_count": 1,
   "metadata": {},
   "outputs": [],
   "source": [
    "# Imports\n",
    "import json\n",
    "import plotly.express as px\n",
    "import pandas as pd\n",
    "import geopandas as gpd\n",
    "from geopy.geocoders import Nominatim"
   ]
  },
  {
   "attachments": {},
   "cell_type": "markdown",
   "metadata": {},
   "source": [
    "We have successfully obtained some forecast for the next months in the previous notebook. Let's now plot it directly onto a map so that we can easily communicate this forecast. We use interactive plotly maps for that, which allows us to plot geoJSON files that contain a geometry shape for the area on a map. To that area, we plot the temperature forecast data in some meaningful and easy to interprete way.\n",
    "\n",
    "We first read in geoJSON with geopandas, then load our predictions from the other notebook."
   ]
  },
  {
   "cell_type": "code",
   "execution_count": 2,
   "metadata": {},
   "outputs": [],
   "source": [
    "gpf = gpd.read_file(\"geo_data/bezirksgrenzen.geojson\")\n",
    "gpf = gpf.loc[gpf[\"Gemeinde_name\"] == \"Tempelhof-Schöneberg\"][\n",
    "    [\"geometry\", \"Gemeinde_name\"]\n",
    "].reset_index(drop=True)\n",
    "df = pd.read_pickle(\"prediction_future.pkl\")"
   ]
  },
  {
   "attachments": {},
   "cell_type": "markdown",
   "metadata": {},
   "source": [
    "Add a date and area column, improve column names descriptives and et a df ready with temperature, area and year.  \n",
    "Then merge into the geojson file (i.e., don't add geojson to the df). This will preserve the polygons as a geometry object."
   ]
  },
  {
   "cell_type": "code",
   "execution_count": 3,
   "metadata": {},
   "outputs": [],
   "source": [
    "df_plot = df[\"TG\"]\n",
    "df_plot_tempelhof_monthly = pd.DataFrame(df_plot.reset_index(drop=True))\n",
    "df_plot_tempelhof_monthly[\"Date\"] = pd.DataFrame(\n",
    "    df_plot.index.year.astype(str) + \" - \" + df_plot.index.month_name()\n",
    ")\n",
    "df_plot_tempelhof_monthly[\"Gemeinde_name\"] = gpf[\"Gemeinde_name\"][0]\n",
    "df_plot_tempelhof_monthly = gpf.merge(df_plot_tempelhof_monthly)\n",
    "df_plot_tempelhof_monthly = df_plot_tempelhof_monthly.rename(\n",
    "    {\"TG\": \"Predicted temperature\", \"Gemeinde_name\": \"District name\"}, axis=1\n",
    ")"
   ]
  },
  {
   "attachments": {},
   "cell_type": "markdown",
   "metadata": {},
   "source": [
    "We can now dump this as a json file. We will store and reload the JSON file, not because we need to but just as an exercise."
   ]
  },
  {
   "cell_type": "code",
   "execution_count": 4,
   "metadata": {},
   "outputs": [],
   "source": [
    "tempelhof_monthly_json = df_plot_tempelhof_monthly.to_json()\n",
    "with open(\"tempelhof_monthly_json.json\", \"w\") as file:\n",
    "    json.dump(tempelhof_monthly_json, file, indent=2)\n",
    "with open(\"tempelhof_monthly_json.json\", \"r\") as file:\n",
    "    tempelhof_monthly_json = json.load(file)"
   ]
  },
  {
   "attachments": {},
   "cell_type": "markdown",
   "metadata": {},
   "source": [
    "Now, let's get the latitude and longitude of some point to center the map. I will obviously chose my Tennis club as center point which happens to be next to Berlin Tempelhof:"
   ]
  },
  {
   "cell_type": "code",
   "execution_count": 5,
   "metadata": {},
   "outputs": [],
   "source": [
    "address = Nominatim(user_agent=\"mymap\").geocode(\"Paradestraße 28-32, 12101 Berlin\")\n",
    "coordinates = {\"lat\": address.latitude, \"lon\": address.longitude}"
   ]
  },
  {
   "attachments": {},
   "cell_type": "markdown",
   "metadata": {},
   "source": [
    "We are now ready to plot the data using Plotly's choropleth.  \n",
    "Choropleth is a method to generate an interactive map figure using plotly. The mapbox version of it creates animated features instead of just a static plot.\n",
    "\n",
    "Before we plot use `json.loads()` on your loaded JSON file. This is a crucial step: this will make sure the geoJSON is loaded as a JSON dict rather than a JSON str which it normally is when loaded from a file using `json.load()`. JSON strings are accepted by plotly but won't read correctly and the methods do not throw an error or warning."
   ]
  },
  {
   "cell_type": "code",
   "execution_count": null,
   "metadata": {},
   "outputs": [],
   "source": [
    "tempelhof_monthly_json = json.loads(tempelhof_monthly_json)\n",
    "data = df_plot_tempelhof_monthly.drop(\"geometry\", axis=1)\n",
    "# Now, let's actually plot but provide some explanation of the keyword arguments:\n",
    "fig = px.choropleth_mapbox(\n",
    "    data_frame=data,  # df that contains all years (can be gdf or df)\n",
    "    hover_name=\"District name\",  # text displayed when hovering over plot elements\n",
    "    geojson=tempelhof_monthly_json,\n",
    "    featureidkey=\"properties.District name\",  # name of JSON key within the \"properties\" value that contains Gemeinde_name names\n",
    "    animation_frame=\"Date\",  # df columns over which the animation cycles\n",
    "    locations=\"District name\",  # name of the df column that contains Gemeinde_name names\n",
    "    mapbox_style=\"open-street-map\",  # see other styles: https://plotly.com/python/mapbox-layers/\n",
    "    title=\"2022 Forecast for Berlin-Tempelhof (monthly average temperature)\",\n",
    "    color=\"Predicted temperature\",  # name of the dataframe column that contains numerical data you want to display\n",
    "    color_continuous_scale=\"RdBu_r\",  # see other options: https://plotly.com/python/builtin-colorscales/\n",
    "    range_color=(\n",
    "        -10,\n",
    "        30,\n",
    "    ),  # range of color bar. is an iterative over df rows, so we have to provide it a fixed tuple of ints instead of defining it in dependence with the df\n",
    "    opacity=0.6,  # opacity of the colored field\n",
    "    center=coordinates,  # location the map will be center on at startup\n",
    "    zoom=9,  # zoom setting at startup\n",
    ")\n",
    "\n",
    "# We could also update text elements by altering the font or style like so:\n",
    "# fig.update_layout(\n",
    "#     font_family=\"Times New Roman\",\n",
    "#     font_size=13,\n",
    "#     font_color=\"black\",\n",
    "#     title_font_family=\"Times New Roman\",\n",
    "#     title_font_color=\"blue\",\n",
    "#     title_font_size=30,\n",
    "# )\n",
    "\n",
    "# We can add some sliders to manipulate the data\n",
    "sliders = [\n",
    "    dict(\n",
    "        currentvalue={\"font\": {\"size\": 20}, \"prefix\": \"Month: \", \"xanchor\": \"right\"},\n",
    "        pad={\"t\": 0, \"b\": 30},\n",
    "    )\n",
    "]\n",
    "# Some modifications on the slider\n",
    "fig.update_layout(sliders=sliders)\n",
    "fig.update_layout(margin={\"r\": 0, \"t\": 50, \"l\": 0, \"b\": 0})\n",
    "fig[\"layout\"][\"updatemenus\"][0][\"buttons\"][0][\"args\"][1][\"frame\"][\n",
    "    \"duration\"\n",
    "] = 1000  # Presentation duration of each data point when starting the animation\n",
    "fig.layout.updatemenus[0][\"pad\"] = {\"t\": 100, \"b\": 20, \"l\": 20}\n",
    "# We could also access it individually like so:\n",
    "# fig.layout.updatemenus[0][\"pad\"][\"t\"] = 100\n",
    "# fig.layout.updatemenus[0][\"pad\"][\"b\"] = 20\n",
    "# fig.layout.updatemenus[0][\"pad\"][\"l\"] = 20\n",
    "# Save it as HTML and show it\n",
    "fig.write_html(\"tempelhof_temperature_monthly.html\", include_plotlyjs=\"cdn\")\n",
    "fig.show()\n",
    "# Note that this is HTML so we should be able to just copy and paste it into our blog."
   ]
  }
 ],
 "metadata": {
  "kernelspec": {
   "display_name": "spiced_academy",
   "language": "python",
   "name": "python3"
  },
  "language_info": {
   "codemirror_mode": {
    "name": "ipython",
    "version": 3
   },
   "file_extension": ".py",
   "mimetype": "text/x-python",
   "name": "python",
   "nbconvert_exporter": "python",
   "pygments_lexer": "ipython3",
   "version": "3.10.6"
  },
  "orig_nbformat": 4,
  "vscode": {
   "interpreter": {
    "hash": "623fb8a287ec8ffb6c446d106409dabb9d6c0fd237c2126b552a6dd4601709a8"
   }
  }
 },
 "nbformat": 4,
 "nbformat_minor": 2
}
